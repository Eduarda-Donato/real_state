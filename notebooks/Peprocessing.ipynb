{
 "cells": [
  {
   "cell_type": "code",
   "execution_count": 2,
   "id": "4c8da713",
   "metadata": {},
   "outputs": [],
   "source": [
    "import pandas as pd\n",
    "import numpy as np \n"
   ]
  },
  {
   "cell_type": "code",
   "execution_count": 12,
   "id": "4d316d1c",
   "metadata": {},
   "outputs": [],
   "source": [
    "df = pd.read_csv('C:\\\\Users\\\\eduar\\\\Documents\\\\real_state\\\\data\\\\sell.csv')"
   ]
  },
  {
   "cell_type": "code",
   "execution_count": 13,
   "id": "0567084b",
   "metadata": {},
   "outputs": [
    {
     "name": "stdout",
     "output_type": "stream",
     "text": [
      "<class 'pandas.core.frame.DataFrame'>\n",
      "RangeIndex: 567135 entries, 0 to 567134\n",
      "Data columns (total 25 columns):\n",
      " #   Column                      Non-Null Count   Dtype  \n",
      "---  ------                      --------------   -----  \n",
      " 0   created_on                  567135 non-null  object \n",
      " 1   operation                   567135 non-null  object \n",
      " 2   property_type               567135 non-null  object \n",
      " 3   place_name                  567135 non-null  object \n",
      " 4   place_with_parent_names     567135 non-null  object \n",
      " 5   geonames_id                 97 non-null      float64\n",
      " 6   lat-lon                     273006 non-null  object \n",
      " 7   lat                         273006 non-null  float64\n",
      " 8   lon                         273006 non-null  float64\n",
      " 9   price                       530859 non-null  float64\n",
      " 10  currency                    530841 non-null  object \n",
      " 11  price_aprox_local_currency  530859 non-null  float64\n",
      " 12  price_aprox_usd             530859 non-null  float64\n",
      " 13  surface_total_in_m2         146701 non-null  float64\n",
      " 14  surface_covered_in_m2       422816 non-null  float64\n",
      " 15  price_usd_per_m2            390150 non-null  float64\n",
      " 16  price_per_m2                390150 non-null  float64\n",
      " 17  floor                       49845 non-null   float64\n",
      " 18  rooms                       350437 non-null  float64\n",
      " 19  expenses                    200284 non-null  float64\n",
      " 20  properati_url               567135 non-null  object \n",
      " 21  description                 567135 non-null  object \n",
      " 22  title                       567135 non-null  object \n",
      " 23  image_thumbnail             544383 non-null  object \n",
      " 24  state                       567135 non-null  object \n",
      "dtypes: float64(13), object(12)\n",
      "memory usage: 108.2+ MB\n"
     ]
    }
   ],
   "source": [
    "df.info()"
   ]
  },
  {
   "cell_type": "code",
   "execution_count": 6,
   "id": "251c2a8a",
   "metadata": {},
   "outputs": [
    {
     "data": {
      "text/plain": [
       "Index(['created_on', 'operation', 'property_type', 'place_name',\n",
       "       'place_with_parent_names', 'geonames_id', 'lat-lon', 'lat', 'lon',\n",
       "       'price', 'currency', 'price_aprox_local_currency', 'price_aprox_usd',\n",
       "       'surface_total_in_m2', 'surface_covered_in_m2', 'price_usd_per_m2',\n",
       "       'price_per_m2', 'floor', 'rooms', 'expenses', 'properati_url',\n",
       "       'description', 'title', 'image_thumbnail', 'state'],\n",
       "      dtype='object')"
      ]
     },
     "execution_count": 6,
     "metadata": {},
     "output_type": "execute_result"
    }
   ],
   "source": [
    "df.columns"
   ]
  },
  {
   "cell_type": "code",
   "execution_count": 10,
   "id": "27a229b5",
   "metadata": {},
   "outputs": [
    {
     "data": {
      "text/plain": [
       "currency\n",
       "BRL    530595\n",
       "USD       167\n",
       "MXN        79\n",
       "Name: count, dtype: int64"
      ]
     },
     "execution_count": 10,
     "metadata": {},
     "output_type": "execute_result"
    }
   ],
   "source": [
    "df.currency.value_counts()"
   ]
  },
  {
   "cell_type": "code",
   "execution_count": 14,
   "id": "e2da9a9c",
   "metadata": {},
   "outputs": [],
   "source": [
    "cols = ['created_on', 'operation', 'property_type', 'place_name',\n",
    "       'place_with_parent_names', 'geonames_id', 'lat-lon', 'lat', 'lon','properati_url',\n",
    "       'description', 'title', 'image_thumbnail']\n",
    "\n",
    "df = df.drop(columns=cols, axis=1)"
   ]
  },
  {
   "cell_type": "code",
   "execution_count": 16,
   "id": "5b37647c",
   "metadata": {},
   "outputs": [],
   "source": [
    "df = df[df['currency'] == 'BRL']\n",
    "df = df.drop(columns='currency', axis=1)"
   ]
  },
  {
   "cell_type": "code",
   "execution_count": 17,
   "id": "46e45c17",
   "metadata": {},
   "outputs": [
    {
     "data": {
      "text/html": [
       "<div>\n",
       "<style scoped>\n",
       "    .dataframe tbody tr th:only-of-type {\n",
       "        vertical-align: middle;\n",
       "    }\n",
       "\n",
       "    .dataframe tbody tr th {\n",
       "        vertical-align: top;\n",
       "    }\n",
       "\n",
       "    .dataframe thead th {\n",
       "        text-align: right;\n",
       "    }\n",
       "</style>\n",
       "<table border=\"1\" class=\"dataframe\">\n",
       "  <thead>\n",
       "    <tr style=\"text-align: right;\">\n",
       "      <th></th>\n",
       "      <th>price</th>\n",
       "      <th>price_aprox_local_currency</th>\n",
       "      <th>price_aprox_usd</th>\n",
       "      <th>surface_total_in_m2</th>\n",
       "      <th>surface_covered_in_m2</th>\n",
       "      <th>price_usd_per_m2</th>\n",
       "      <th>price_per_m2</th>\n",
       "      <th>floor</th>\n",
       "      <th>rooms</th>\n",
       "      <th>expenses</th>\n",
       "      <th>state</th>\n",
       "    </tr>\n",
       "  </thead>\n",
       "  <tbody>\n",
       "    <tr>\n",
       "      <th>0</th>\n",
       "      <td>155900.0</td>\n",
       "      <td>155608.08</td>\n",
       "      <td>48648.81</td>\n",
       "      <td>NaN</td>\n",
       "      <td>NaN</td>\n",
       "      <td>NaN</td>\n",
       "      <td>NaN</td>\n",
       "      <td>NaN</td>\n",
       "      <td>2.0</td>\n",
       "      <td>NaN</td>\n",
       "      <td>Ceará</td>\n",
       "    </tr>\n",
       "    <tr>\n",
       "      <th>4</th>\n",
       "      <td>95000.0</td>\n",
       "      <td>94822.11</td>\n",
       "      <td>29644.88</td>\n",
       "      <td>NaN</td>\n",
       "      <td>NaN</td>\n",
       "      <td>NaN</td>\n",
       "      <td>NaN</td>\n",
       "      <td>NaN</td>\n",
       "      <td>3.0</td>\n",
       "      <td>NaN</td>\n",
       "      <td>Minas Gerais</td>\n",
       "    </tr>\n",
       "    <tr>\n",
       "      <th>5</th>\n",
       "      <td>220000.0</td>\n",
       "      <td>219588.08</td>\n",
       "      <td>68651.31</td>\n",
       "      <td>NaN</td>\n",
       "      <td>NaN</td>\n",
       "      <td>NaN</td>\n",
       "      <td>NaN</td>\n",
       "      <td>NaN</td>\n",
       "      <td>3.0</td>\n",
       "      <td>NaN</td>\n",
       "      <td>Minas Gerais</td>\n",
       "    </tr>\n",
       "    <tr>\n",
       "      <th>26</th>\n",
       "      <td>230000.0</td>\n",
       "      <td>229569.34</td>\n",
       "      <td>71771.82</td>\n",
       "      <td>NaN</td>\n",
       "      <td>NaN</td>\n",
       "      <td>NaN</td>\n",
       "      <td>NaN</td>\n",
       "      <td>NaN</td>\n",
       "      <td>1.0</td>\n",
       "      <td>NaN</td>\n",
       "      <td>São Paulo</td>\n",
       "    </tr>\n",
       "    <tr>\n",
       "      <th>27</th>\n",
       "      <td>195000.0</td>\n",
       "      <td>194634.87</td>\n",
       "      <td>60850.02</td>\n",
       "      <td>NaN</td>\n",
       "      <td>NaN</td>\n",
       "      <td>NaN</td>\n",
       "      <td>NaN</td>\n",
       "      <td>NaN</td>\n",
       "      <td>2.0</td>\n",
       "      <td>NaN</td>\n",
       "      <td>São Paulo</td>\n",
       "    </tr>\n",
       "  </tbody>\n",
       "</table>\n",
       "</div>"
      ],
      "text/plain": [
       "       price  price_aprox_local_currency  price_aprox_usd  \\\n",
       "0   155900.0                   155608.08         48648.81   \n",
       "4    95000.0                    94822.11         29644.88   \n",
       "5   220000.0                   219588.08         68651.31   \n",
       "26  230000.0                   229569.34         71771.82   \n",
       "27  195000.0                   194634.87         60850.02   \n",
       "\n",
       "    surface_total_in_m2  surface_covered_in_m2  price_usd_per_m2  \\\n",
       "0                   NaN                    NaN               NaN   \n",
       "4                   NaN                    NaN               NaN   \n",
       "5                   NaN                    NaN               NaN   \n",
       "26                  NaN                    NaN               NaN   \n",
       "27                  NaN                    NaN               NaN   \n",
       "\n",
       "    price_per_m2  floor  rooms  expenses         state  \n",
       "0            NaN    NaN    2.0       NaN         Ceará  \n",
       "4            NaN    NaN    3.0       NaN  Minas Gerais  \n",
       "5            NaN    NaN    3.0       NaN  Minas Gerais  \n",
       "26           NaN    NaN    1.0       NaN     São Paulo  \n",
       "27           NaN    NaN    2.0       NaN     São Paulo  "
      ]
     },
     "execution_count": 17,
     "metadata": {},
     "output_type": "execute_result"
    }
   ],
   "source": [
    "df.head(5)"
   ]
  },
  {
   "cell_type": "code",
   "execution_count": 18,
   "id": "b5956669",
   "metadata": {},
   "outputs": [
    {
     "name": "stdout",
     "output_type": "stream",
     "text": [
      "<class 'pandas.core.frame.DataFrame'>\n",
      "Index: 530595 entries, 0 to 567134\n",
      "Data columns (total 11 columns):\n",
      " #   Column                      Non-Null Count   Dtype  \n",
      "---  ------                      --------------   -----  \n",
      " 0   price                       530595 non-null  float64\n",
      " 1   price_aprox_local_currency  530595 non-null  float64\n",
      " 2   price_aprox_usd             530595 non-null  float64\n",
      " 3   surface_total_in_m2         129129 non-null  float64\n",
      " 4   surface_covered_in_m2       397039 non-null  float64\n",
      " 5   price_usd_per_m2            390111 non-null  float64\n",
      " 6   price_per_m2                390111 non-null  float64\n",
      " 7   floor                       49566 non-null   float64\n",
      " 8   rooms                       338226 non-null  float64\n",
      " 9   expenses                    190860 non-null  float64\n",
      " 10  state                       530595 non-null  object \n",
      "dtypes: float64(10), object(1)\n",
      "memory usage: 48.6+ MB\n"
     ]
    }
   ],
   "source": [
    "df.info()"
   ]
  },
  {
   "cell_type": "code",
   "execution_count": 23,
   "id": "7626e224",
   "metadata": {},
   "outputs": [
    {
     "name": "stdout",
     "output_type": "stream",
     "text": [
      "        surface_total_in_m2  surface_covered_in_m2\n",
      "391                   260.0                  180.0\n",
      "392                   160.0                  109.0\n",
      "393                   197.0                  130.0\n",
      "394                   300.0                  145.0\n",
      "396                   200.0                  130.0\n",
      "...                     ...                    ...\n",
      "566920                175.0                  115.0\n",
      "566921                100.0                   50.0\n",
      "566923                 80.0                   80.0\n",
      "566924                 65.0                   65.0\n",
      "566925                 76.0                   76.0\n",
      "\n",
      "[129129 rows x 2 columns]\n"
     ]
    }
   ],
   "source": [
    "df_filtered = df[df['surface_total_in_m2'].notna()][['surface_total_in_m2', 'surface_covered_in_m2']]\n",
    "print(df_filtered)\n"
   ]
  },
  {
   "cell_type": "code",
   "execution_count": 19,
   "id": "d5901020",
   "metadata": {},
   "outputs": [
    {
     "data": {
      "image/png": "[encoded data removed]",
      "text/plain": [
       "<Figure size 640x480 with 1 Axes>"
      ]
     },
     "metadata": {},
     "output_type": "display_data"
    }
   ],
   "source": [
    "import seaborn as sns\n",
    "import matplotlib.pyplot as plt\n",
    "\n",
    "sns.scatterplot(data=df, x='surface_total_in_m2', y='surface_covered_in_m2')\n",
    "plt.title('Scatter plot de variáveis X e Y')\n",
    "plt.show()\n"
   ]
  }
 ],
 "metadata": {
  "kernelspec": {
   "display_name": "real_state",
   "language": "python",
   "name": "python3"
  },
  "language_info": {
   "codemirror_mode": {
    "name": "ipython",
    "version": 3
   },
   "file_extension": ".py",
   "mimetype": "text/x-python",
   "name": "python",
   "nbconvert_exporter": "python",
   "pygments_lexer": "ipython3",
   "version": "3.13.3"
  }
 },
 "nbformat": 4,
 "nbformat_minor": 5
}
