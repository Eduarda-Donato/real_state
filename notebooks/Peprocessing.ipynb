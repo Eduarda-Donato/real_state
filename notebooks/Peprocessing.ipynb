{
 "cells": [
  {
   "cell_type": "code",
   "execution_count": 177,
   "id": "4c8da713",
   "metadata": {},
   "outputs": [],
   "source": [
    "import pandas as pd\n",
    "import numpy as np \n",
    "import re\n",
    "\n",
    "from sklearn.preprocessing import OneHotEncoder\n",
    "from sklearn.model_selection import train_test_split\n",
    "from sklearn.preprocessing import RobustScaler"
   ]
  },
  {
   "cell_type": "code",
   "execution_count": 134,
   "id": "4d316d1c",
   "metadata": {},
   "outputs": [],
   "source": [
    "df = pd.read_csv('C:\\\\Users\\\\Eduarda\\\\Documents\\\\real_state\\\\data\\\\sell.csv')"
   ]
  },
  {
   "cell_type": "code",
   "execution_count": 135,
   "id": "0567084b",
   "metadata": {},
   "outputs": [
    {
     "name": "stdout",
     "output_type": "stream",
     "text": [
      "<class 'pandas.core.frame.DataFrame'>\n",
      "RangeIndex: 567135 entries, 0 to 567134\n",
      "Data columns (total 25 columns):\n",
      " #   Column                      Non-Null Count   Dtype  \n",
      "---  ------                      --------------   -----  \n",
      " 0   created_on                  567135 non-null  object \n",
      " 1   operation                   567135 non-null  object \n",
      " 2   property_type               567135 non-null  object \n",
      " 3   place_name                  567135 non-null  object \n",
      " 4   place_with_parent_names     567135 non-null  object \n",
      " 5   geonames_id                 97 non-null      float64\n",
      " 6   lat-lon                     273006 non-null  object \n",
      " 7   lat                         273006 non-null  float64\n",
      " 8   lon                         273006 non-null  float64\n",
      " 9   price                       530859 non-null  float64\n",
      " 10  currency                    530841 non-null  object \n",
      " 11  price_aprox_local_currency  530859 non-null  float64\n",
      " 12  price_aprox_usd             530859 non-null  float64\n",
      " 13  surface_total_in_m2         146701 non-null  float64\n",
      " 14  surface_covered_in_m2       422816 non-null  float64\n",
      " 15  price_usd_per_m2            390150 non-null  float64\n",
      " 16  price_per_m2                390150 non-null  float64\n",
      " 17  floor                       49845 non-null   float64\n",
      " 18  rooms                       350437 non-null  float64\n",
      " 19  expenses                    200284 non-null  float64\n",
      " 20  properati_url               567135 non-null  object \n",
      " 21  description                 567135 non-null  object \n",
      " 22  title                       567135 non-null  object \n",
      " 23  image_thumbnail             544383 non-null  object \n",
      " 24  state                       567135 non-null  object \n",
      "dtypes: float64(13), object(12)\n",
      "memory usage: 108.2+ MB\n"
     ]
    }
   ],
   "source": [
    "df.info()"
   ]
  },
  {
   "cell_type": "code",
   "execution_count": 136,
   "id": "251c2a8a",
   "metadata": {},
   "outputs": [
    {
     "data": {
      "text/plain": [
       "Index(['created_on', 'operation', 'property_type', 'place_name',\n",
       "       'place_with_parent_names', 'geonames_id', 'lat-lon', 'lat', 'lon',\n",
       "       'price', 'currency', 'price_aprox_local_currency', 'price_aprox_usd',\n",
       "       'surface_total_in_m2', 'surface_covered_in_m2', 'price_usd_per_m2',\n",
       "       'price_per_m2', 'floor', 'rooms', 'expenses', 'properati_url',\n",
       "       'description', 'title', 'image_thumbnail', 'state'],\n",
       "      dtype='object')"
      ]
     },
     "execution_count": 136,
     "metadata": {},
     "output_type": "execute_result"
    }
   ],
   "source": [
    "df.columns"
   ]
  },
  {
   "cell_type": "markdown",
   "id": "811fbdc2",
   "metadata": {},
   "source": [
    "## Feature Selection"
   ]
  },
  {
   "cell_type": "code",
   "execution_count": 137,
   "id": "e2da9a9c",
   "metadata": {},
   "outputs": [],
   "source": [
    "# No information\n",
    "cols = ['created_on', 'operation', 'property_type',\n",
    "        'place_with_parent_names', 'geonames_id', \n",
    "        'lat-lon', 'lat', 'lon','properati_url',\n",
    "        'title', 'image_thumbnail']\n",
    "\n",
    "df = df.drop(columns=cols, axis=1)"
   ]
  },
  {
   "cell_type": "code",
   "execution_count": 138,
   "id": "7de4e39c",
   "metadata": {},
   "outputs": [],
   "source": [
    "# High correlation with price\n",
    "cols = ['price_aprox_local_currency','price_aprox_usd','price_usd_per_m2','expenses','surface_total_in_m2']\n",
    "\n",
    "df = df.drop(columns=cols,axis=1)"
   ]
  },
  {
   "cell_type": "code",
   "execution_count": 139,
   "id": "e1fc0195",
   "metadata": {},
   "outputs": [
    {
     "name": "stdout",
     "output_type": "stream",
     "text": [
      "<class 'pandas.core.frame.DataFrame'>\n",
      "RangeIndex: 567135 entries, 0 to 567134\n",
      "Data columns (total 9 columns):\n",
      " #   Column                 Non-Null Count   Dtype  \n",
      "---  ------                 --------------   -----  \n",
      " 0   place_name             567135 non-null  object \n",
      " 1   price                  530859 non-null  float64\n",
      " 2   currency               530841 non-null  object \n",
      " 3   surface_covered_in_m2  422816 non-null  float64\n",
      " 4   price_per_m2           390150 non-null  float64\n",
      " 5   floor                  49845 non-null   float64\n",
      " 6   rooms                  350437 non-null  float64\n",
      " 7   description            567135 non-null  object \n",
      " 8   state                  567135 non-null  object \n",
      "dtypes: float64(5), object(4)\n",
      "memory usage: 38.9+ MB\n"
     ]
    }
   ],
   "source": [
    "df.info()"
   ]
  },
  {
   "cell_type": "markdown",
   "id": "e3ffa2ef",
   "metadata": {},
   "source": [
    "## Data Cleaning"
   ]
  },
  {
   "cell_type": "markdown",
   "id": "d0f47283",
   "metadata": {},
   "source": [
    "### Correcting inconsistencies"
   ]
  },
  {
   "cell_type": "code",
   "execution_count": 140,
   "id": "95c0da5d",
   "metadata": {},
   "outputs": [
    {
     "data": {
      "text/plain": [
       "currency\n",
       "BRL    530595\n",
       "USD       167\n",
       "MXN        79\n",
       "Name: count, dtype: int64"
      ]
     },
     "execution_count": 140,
     "metadata": {},
     "output_type": "execute_result"
    }
   ],
   "source": [
    "df.currency.value_counts()"
   ]
  },
  {
   "cell_type": "code",
   "execution_count": 141,
   "id": "f4545f99",
   "metadata": {},
   "outputs": [],
   "source": [
    "df = df[df['currency'] == 'BRL']\n",
    "df = df.drop(columns='currency', axis=1)"
   ]
  },
  {
   "cell_type": "code",
   "execution_count": 142,
   "id": "9c4a20fd",
   "metadata": {},
   "outputs": [
    {
     "data": {
      "text/plain": [
       "state\n",
       "São Paulo              370944\n",
       "Rio Grande do Sul       47114\n",
       "Rio de Janeiro          38098\n",
       "Minas Gerais            18205\n",
       "Santa Catarina          18155\n",
       "Paraná                   9183\n",
       "Ceará                    5388\n",
       "Bahia                    5351\n",
       "Espírito Santo           4974\n",
       "Paraíba                  3467\n",
       "Rio Grande do Norte      2175\n",
       "Distrito Federal         1882\n",
       "Pernambuco               1636\n",
       "Goiás                    1276\n",
       "Pará                      649\n",
       "Alagoas                   414\n",
       "Mato Grosso               376\n",
       "Sergipe                   351\n",
       "Maranhão                  330\n",
       "Amazonas                  162\n",
       "Piauí                     135\n",
       "Tocantins                 126\n",
       "Miami                      81\n",
       "Rondônia                   58\n",
       "Mato Grosso do Sul         52\n",
       "Acre                        7\n",
       "Amapá                       6\n",
       "Name: count, dtype: int64"
      ]
     },
     "execution_count": 142,
     "metadata": {},
     "output_type": "execute_result"
    }
   ],
   "source": [
    "df.state.value_counts()"
   ]
  },
  {
   "cell_type": "code",
   "execution_count": 143,
   "id": "89799aa1",
   "metadata": {},
   "outputs": [],
   "source": [
    "df = df[df['state'] != 'Miami']"
   ]
  },
  {
   "cell_type": "code",
   "execution_count": 144,
   "id": "80627a88",
   "metadata": {},
   "outputs": [],
   "source": [
    "number_map = {\n",
    "    'um': 1, 'uma': 1, 'dois': 2, 'duas': 2, 'três': 3, 'tres': 3,\n",
    "    'quatro': 4, 'cinco': 5, 'seis': 6, 'sete': 7, 'oito': 8, 'nove': 9,\n",
    "    'dez': 10\n",
    "}\n",
    "room_pattern = r'(\\d+|um|uma|dois|duas|três|tres|quatro|cinco|seis|sete|oito|nove|dez)\\s*(quarto|quartos|qtos?|dormitórios?|dorms?|suítes?|suite)'\n",
    "\n",
    "extract_number_room = (df['description']\n",
    "                        .str.lower()\n",
    "                        .str.extract(room_pattern)[0]\n",
    "                        .str.strip()\n",
    "                        .replace(number_map)\n",
    ")\n",
    "\n",
    "df['rooms'] = df['rooms'].mask(df['rooms'] != extract_number_room, extract_number_room)"
   ]
  },
  {
   "cell_type": "code",
   "execution_count": 145,
   "id": "c22b7fef",
   "metadata": {},
   "outputs": [],
   "source": [
    "############### resover o room com numeros esquisitos"
   ]
  },
  {
   "cell_type": "code",
   "execution_count": 146,
   "id": "1e13ba15",
   "metadata": {},
   "outputs": [
    {
     "data": {
      "text/plain": [
       "0\n",
       "682270     1\n",
       "2897       1\n",
       "2898       1\n",
       "0482       1\n",
       "1550000    1\n",
       "380003     1\n",
       "305001     1\n",
       "63         1\n",
       "057102     1\n",
       "150002     1\n",
       "9563       1\n",
       "20163      1\n",
       "647410     1\n",
       "79213      1\n",
       "01142      1\n",
       "057201     1\n",
       "057302     1\n",
       "057602     1\n",
       "110962     1\n",
       "1600003    1\n",
       "Name: count, dtype: int64"
      ]
     },
     "execution_count": 146,
     "metadata": {},
     "output_type": "execute_result"
    }
   ],
   "source": [
    "extract_number_room.value_counts().tail(20)"
   ]
  },
  {
   "cell_type": "code",
   "execution_count": 147,
   "id": "7011a114",
   "metadata": {},
   "outputs": [
    {
     "name": "stdout",
     "output_type": "stream",
     "text": [
      "<class 'pandas.core.frame.DataFrame'>\n",
      "Index: 530514 entries, 0 to 567134\n",
      "Data columns (total 8 columns):\n",
      " #   Column                 Non-Null Count   Dtype  \n",
      "---  ------                 --------------   -----  \n",
      " 0   place_name             530514 non-null  object \n",
      " 1   price                  530514 non-null  float64\n",
      " 2   surface_covered_in_m2  397001 non-null  float64\n",
      " 3   price_per_m2           390073 non-null  float64\n",
      " 4   floor                  49566 non-null   float64\n",
      " 5   rooms                  391381 non-null  object \n",
      " 6   description            530514 non-null  object \n",
      " 7   state                  530514 non-null  object \n",
      "dtypes: float64(4), object(4)\n",
      "memory usage: 36.4+ MB\n"
     ]
    }
   ],
   "source": [
    "df.info()"
   ]
  },
  {
   "cell_type": "code",
   "execution_count": 148,
   "id": "741343e1",
   "metadata": {},
   "outputs": [],
   "source": [
    "df['floor'] = df['floor'].round().astype('Int64')\n",
    "df['rooms'] = pd.to_numeric(df['rooms'], errors='coerce')"
   ]
  },
  {
   "cell_type": "markdown",
   "id": "0eac7ad4",
   "metadata": {},
   "source": [
    "### Handling missing values"
   ]
  },
  {
   "cell_type": "code",
   "execution_count": 149,
   "id": "dddda558",
   "metadata": {},
   "outputs": [
    {
     "data": {
      "text/plain": [
       "place_name                    0\n",
       "price                         0\n",
       "surface_covered_in_m2    133513\n",
       "price_per_m2             140441\n",
       "floor                    480948\n",
       "rooms                    139133\n",
       "description                   0\n",
       "state                         0\n",
       "dtype: int64"
      ]
     },
     "execution_count": 149,
     "metadata": {},
     "output_type": "execute_result"
    }
   ],
   "source": [
    "df.isna().sum()"
   ]
  },
  {
   "cell_type": "code",
   "execution_count": 150,
   "id": "e31f5481",
   "metadata": {},
   "outputs": [],
   "source": [
    "df['floor'] = df['floor'].fillna(0)"
   ]
  },
  {
   "cell_type": "code",
   "execution_count": 151,
   "id": "9c308ed0",
   "metadata": {},
   "outputs": [
    {
     "data": {
      "text/plain": [
       "state\n",
       "Acre                   2.0\n",
       "Alagoas                3.0\n",
       "Amapá                  2.0\n",
       "Amazonas               3.0\n",
       "Bahia                  2.0\n",
       "Ceará                  3.0\n",
       "Distrito Federal       2.0\n",
       "Espírito Santo         3.0\n",
       "Goiás                  3.0\n",
       "Maranhão               2.0\n",
       "Mato Grosso            3.0\n",
       "Mato Grosso do Sul     2.0\n",
       "Minas Gerais           3.0\n",
       "Paraná                 3.0\n",
       "Paraíba                2.0\n",
       "Pará                   3.0\n",
       "Pernambuco             3.0\n",
       "Piauí                  3.0\n",
       "Rio Grande do Norte    2.0\n",
       "Rio Grande do Sul      2.0\n",
       "Rio de Janeiro         2.0\n",
       "Rondônia               2.0\n",
       "Santa Catarina         2.0\n",
       "Sergipe                2.0\n",
       "São Paulo              2.0\n",
       "Tocantins              2.0\n",
       "Name: rooms, dtype: float64"
      ]
     },
     "execution_count": 151,
     "metadata": {},
     "output_type": "execute_result"
    }
   ],
   "source": [
    "df.groupby('state')['rooms'].median()"
   ]
  },
  {
   "cell_type": "code",
   "execution_count": 152,
   "id": "930446f4",
   "metadata": {},
   "outputs": [],
   "source": [
    "rooms_median_state = df.groupby('state')['rooms'].transform('median')\n",
    "\n",
    "df['rooms'] = df['rooms'].fillna(rooms_median_state)"
   ]
  },
  {
   "cell_type": "code",
   "execution_count": 153,
   "id": "3bbf9889",
   "metadata": {},
   "outputs": [
    {
     "data": {
      "text/plain": [
       "place_name                    0\n",
       "price                         0\n",
       "surface_covered_in_m2    133513\n",
       "price_per_m2             140441\n",
       "floor                         0\n",
       "rooms                         0\n",
       "description                   0\n",
       "state                         0\n",
       "dtype: int64"
      ]
     },
     "execution_count": 153,
     "metadata": {},
     "output_type": "execute_result"
    }
   ],
   "source": [
    "df.isna().sum()"
   ]
  },
  {
   "cell_type": "code",
   "execution_count": 154,
   "id": "97f64f13",
   "metadata": {},
   "outputs": [],
   "source": [
    "price_m2_median_place = df.groupby('place_name')['price_per_m2'].transform('median')\n",
    "\n",
    "df['price_per_m2'] = df['price_per_m2'].fillna(price_m2_median_place)"
   ]
  },
  {
   "cell_type": "code",
   "execution_count": 155,
   "id": "c09d7e58",
   "metadata": {},
   "outputs": [],
   "source": [
    "surface_m2_median_place = df.groupby('place_name')['surface_covered_in_m2'].transform('median')\n",
    "\n",
    "df['surface_covered_in_m2'] = df['surface_covered_in_m2'].fillna(surface_m2_median_place)"
   ]
  },
  {
   "cell_type": "code",
   "execution_count": 156,
   "id": "74110a13",
   "metadata": {},
   "outputs": [
    {
     "data": {
      "text/plain": [
       "place_name                  0\n",
       "price                       0\n",
       "surface_covered_in_m2    1467\n",
       "price_per_m2             1506\n",
       "floor                       0\n",
       "rooms                       0\n",
       "description                 0\n",
       "state                       0\n",
       "dtype: int64"
      ]
     },
     "execution_count": 156,
     "metadata": {},
     "output_type": "execute_result"
    }
   ],
   "source": [
    "df.isna().sum()"
   ]
  },
  {
   "cell_type": "code",
   "execution_count": 157,
   "id": "1f03f2ca",
   "metadata": {},
   "outputs": [],
   "source": [
    "df = df.dropna()"
   ]
  },
  {
   "cell_type": "code",
   "execution_count": 158,
   "id": "dd40da64",
   "metadata": {},
   "outputs": [
    {
     "data": {
      "text/plain": [
       "place_name               0\n",
       "price                    0\n",
       "surface_covered_in_m2    0\n",
       "price_per_m2             0\n",
       "floor                    0\n",
       "rooms                    0\n",
       "description              0\n",
       "state                    0\n",
       "dtype: int64"
      ]
     },
     "execution_count": 158,
     "metadata": {},
     "output_type": "execute_result"
    }
   ],
   "source": [
    "df.isna().sum()"
   ]
  },
  {
   "cell_type": "markdown",
   "id": "de389551",
   "metadata": {},
   "source": [
    "### Removing duplicates"
   ]
  },
  {
   "cell_type": "code",
   "execution_count": 159,
   "id": "ec74cf49",
   "metadata": {},
   "outputs": [
    {
     "data": {
      "text/plain": [
       "np.int64(21381)"
      ]
     },
     "execution_count": 159,
     "metadata": {},
     "output_type": "execute_result"
    }
   ],
   "source": [
    "df.duplicated().sum()"
   ]
  },
  {
   "cell_type": "code",
   "execution_count": 160,
   "id": "a7d2a842",
   "metadata": {},
   "outputs": [],
   "source": [
    "df = df.drop_duplicates()"
   ]
  },
  {
   "cell_type": "markdown",
   "id": "1b4efcd8",
   "metadata": {},
   "source": [
    "### Removing outliers"
   ]
  },
  {
   "cell_type": "code",
   "execution_count": 161,
   "id": "87093d7b",
   "metadata": {},
   "outputs": [
    {
     "data": {
      "text/plain": [
       "Index(['place_name', 'price', 'surface_covered_in_m2', 'price_per_m2', 'floor',\n",
       "       'rooms', 'description', 'state'],\n",
       "      dtype='object')"
      ]
     },
     "execution_count": 161,
     "metadata": {},
     "output_type": "execute_result"
    }
   ],
   "source": [
    "df.columns"
   ]
  },
  {
   "cell_type": "code",
   "execution_count": 162,
   "id": "da106151",
   "metadata": {},
   "outputs": [],
   "source": [
    "numeric_cols = ['price', 'surface_covered_in_m2', 'price_per_m2','floor', 'rooms']\n",
    "\n",
    "for col in numeric_cols:\n",
    "    Q1 = df[col].quantile(0.25)\n",
    "    Q3 = df[col].quantile(0.75)\n",
    "    IQR = Q3 - Q1\n",
    "\n",
    "    lower_bound = Q1 - 1.5 * IQR\n",
    "    upper_bound = Q3 + 1.5 * IQR\n",
    "\n",
    "    df = df[(df[col] >= lower_bound) & (df[col] <= upper_bound)]"
   ]
  },
  {
   "cell_type": "code",
   "execution_count": 163,
   "id": "ef1bdbce",
   "metadata": {},
   "outputs": [
    {
     "name": "stdout",
     "output_type": "stream",
     "text": [
      "<class 'pandas.core.frame.DataFrame'>\n",
      "Index: 378411 entries, 0 to 567134\n",
      "Data columns (total 8 columns):\n",
      " #   Column                 Non-Null Count   Dtype  \n",
      "---  ------                 --------------   -----  \n",
      " 0   place_name             378411 non-null  object \n",
      " 1   price                  378411 non-null  float64\n",
      " 2   surface_covered_in_m2  378411 non-null  float64\n",
      " 3   price_per_m2           378411 non-null  float64\n",
      " 4   floor                  378411 non-null  Int64  \n",
      " 5   rooms                  378411 non-null  float64\n",
      " 6   description            378411 non-null  object \n",
      " 7   state                  378411 non-null  object \n",
      "dtypes: Int64(1), float64(4), object(3)\n",
      "memory usage: 26.3+ MB\n"
     ]
    }
   ],
   "source": [
    "df.info()"
   ]
  },
  {
   "cell_type": "markdown",
   "id": "5f62ed39",
   "metadata": {},
   "source": [
    "## Data Transformation"
   ]
  },
  {
   "cell_type": "markdown",
   "id": "3cb12d52",
   "metadata": {},
   "source": [
    "### Encoding categorical variables"
   ]
  },
  {
   "cell_type": "code",
   "execution_count": 128,
   "id": "d3a539d5",
   "metadata": {},
   "outputs": [],
   "source": [
    "one_hot = OneHotEncoder(sparse_output=False, drop=None)\n",
    "\n",
    "state_encoded = one_hot.fit_transform(df[['state']])\n",
    "\n",
    "column_names = one_hot.get_feature_names_out(['state'])\n",
    "\n",
    "encoded_df = pd.DataFrame(state_encoded, columns=column_names, index=df.index)\n",
    "\n",
    "df = pd.concat([df.drop('state', axis=1), encoded_df], axis=1)\n"
   ]
  },
  {
   "cell_type": "code",
   "execution_count": 129,
   "id": "911df1eb",
   "metadata": {},
   "outputs": [
    {
     "data": {
      "text/html": [
       "<div>\n",
       "<style scoped>\n",
       "    .dataframe tbody tr th:only-of-type {\n",
       "        vertical-align: middle;\n",
       "    }\n",
       "\n",
       "    .dataframe tbody tr th {\n",
       "        vertical-align: top;\n",
       "    }\n",
       "\n",
       "    .dataframe thead th {\n",
       "        text-align: right;\n",
       "    }\n",
       "</style>\n",
       "<table border=\"1\" class=\"dataframe\">\n",
       "  <thead>\n",
       "    <tr style=\"text-align: right;\">\n",
       "      <th></th>\n",
       "      <th>place_name</th>\n",
       "      <th>price</th>\n",
       "      <th>surface_covered_in_m2</th>\n",
       "      <th>price_per_m2</th>\n",
       "      <th>floor</th>\n",
       "      <th>rooms</th>\n",
       "      <th>description</th>\n",
       "      <th>state_Acre</th>\n",
       "      <th>state_Alagoas</th>\n",
       "      <th>state_Amapá</th>\n",
       "      <th>...</th>\n",
       "      <th>state_Pernambuco</th>\n",
       "      <th>state_Piauí</th>\n",
       "      <th>state_Rio Grande do Norte</th>\n",
       "      <th>state_Rio Grande do Sul</th>\n",
       "      <th>state_Rio de Janeiro</th>\n",
       "      <th>state_Rondônia</th>\n",
       "      <th>state_Santa Catarina</th>\n",
       "      <th>state_Sergipe</th>\n",
       "      <th>state_São Paulo</th>\n",
       "      <th>state_Tocantins</th>\n",
       "    </tr>\n",
       "  </thead>\n",
       "  <tbody>\n",
       "    <tr>\n",
       "      <th>0</th>\n",
       "      <td>Mondubim</td>\n",
       "      <td>155900.0</td>\n",
       "      <td>55.0</td>\n",
       "      <td>2892.218182</td>\n",
       "      <td>0</td>\n",
       "      <td>2.0</td>\n",
       "      <td>Otimo Imovel com o melhor valor da regiao, con...</td>\n",
       "      <td>0.0</td>\n",
       "      <td>0.0</td>\n",
       "      <td>0.0</td>\n",
       "      <td>...</td>\n",
       "      <td>0.0</td>\n",
       "      <td>0.0</td>\n",
       "      <td>0.0</td>\n",
       "      <td>0.0</td>\n",
       "      <td>0.0</td>\n",
       "      <td>0.0</td>\n",
       "      <td>0.0</td>\n",
       "      <td>0.0</td>\n",
       "      <td>0.0</td>\n",
       "      <td>0.0</td>\n",
       "    </tr>\n",
       "    <tr>\n",
       "      <th>26</th>\n",
       "      <td>Ponta da Praia</td>\n",
       "      <td>230000.0</td>\n",
       "      <td>112.0</td>\n",
       "      <td>5454.545455</td>\n",
       "      <td>0</td>\n",
       "      <td>1.0</td>\n",
       "      <td>Otimo Imovel com o melhor valor da regiao, con...</td>\n",
       "      <td>0.0</td>\n",
       "      <td>0.0</td>\n",
       "      <td>0.0</td>\n",
       "      <td>...</td>\n",
       "      <td>0.0</td>\n",
       "      <td>0.0</td>\n",
       "      <td>0.0</td>\n",
       "      <td>0.0</td>\n",
       "      <td>0.0</td>\n",
       "      <td>0.0</td>\n",
       "      <td>0.0</td>\n",
       "      <td>0.0</td>\n",
       "      <td>1.0</td>\n",
       "      <td>0.0</td>\n",
       "    </tr>\n",
       "    <tr>\n",
       "      <th>27</th>\n",
       "      <td>São Vicente</td>\n",
       "      <td>195000.0</td>\n",
       "      <td>65.0</td>\n",
       "      <td>4042.553191</td>\n",
       "      <td>0</td>\n",
       "      <td>2.0</td>\n",
       "      <td>Otimo Imovel com o melhor valor da regiao, con...</td>\n",
       "      <td>0.0</td>\n",
       "      <td>0.0</td>\n",
       "      <td>0.0</td>\n",
       "      <td>...</td>\n",
       "      <td>0.0</td>\n",
       "      <td>0.0</td>\n",
       "      <td>0.0</td>\n",
       "      <td>0.0</td>\n",
       "      <td>0.0</td>\n",
       "      <td>0.0</td>\n",
       "      <td>0.0</td>\n",
       "      <td>0.0</td>\n",
       "      <td>1.0</td>\n",
       "      <td>0.0</td>\n",
       "    </tr>\n",
       "    <tr>\n",
       "      <th>28</th>\n",
       "      <td>São Vicente</td>\n",
       "      <td>400000.0</td>\n",
       "      <td>65.0</td>\n",
       "      <td>4042.553191</td>\n",
       "      <td>0</td>\n",
       "      <td>2.0</td>\n",
       "      <td>Otimo Imovel com o melhor valor da regiao, con...</td>\n",
       "      <td>0.0</td>\n",
       "      <td>0.0</td>\n",
       "      <td>0.0</td>\n",
       "      <td>...</td>\n",
       "      <td>0.0</td>\n",
       "      <td>0.0</td>\n",
       "      <td>0.0</td>\n",
       "      <td>0.0</td>\n",
       "      <td>0.0</td>\n",
       "      <td>0.0</td>\n",
       "      <td>0.0</td>\n",
       "      <td>0.0</td>\n",
       "      <td>1.0</td>\n",
       "      <td>0.0</td>\n",
       "    </tr>\n",
       "    <tr>\n",
       "      <th>29</th>\n",
       "      <td>São Vicente</td>\n",
       "      <td>240000.0</td>\n",
       "      <td>65.0</td>\n",
       "      <td>4042.553191</td>\n",
       "      <td>0</td>\n",
       "      <td>2.0</td>\n",
       "      <td>Otimo Imovel com o melhor valor da regiao, con...</td>\n",
       "      <td>0.0</td>\n",
       "      <td>0.0</td>\n",
       "      <td>0.0</td>\n",
       "      <td>...</td>\n",
       "      <td>0.0</td>\n",
       "      <td>0.0</td>\n",
       "      <td>0.0</td>\n",
       "      <td>0.0</td>\n",
       "      <td>0.0</td>\n",
       "      <td>0.0</td>\n",
       "      <td>0.0</td>\n",
       "      <td>0.0</td>\n",
       "      <td>1.0</td>\n",
       "      <td>0.0</td>\n",
       "    </tr>\n",
       "  </tbody>\n",
       "</table>\n",
       "<p>5 rows × 33 columns</p>\n",
       "</div>"
      ],
      "text/plain": [
       "        place_name     price  surface_covered_in_m2  price_per_m2  floor  \\\n",
       "0         Mondubim  155900.0                   55.0   2892.218182      0   \n",
       "26  Ponta da Praia  230000.0                  112.0   5454.545455      0   \n",
       "27     São Vicente  195000.0                   65.0   4042.553191      0   \n",
       "28     São Vicente  400000.0                   65.0   4042.553191      0   \n",
       "29     São Vicente  240000.0                   65.0   4042.553191      0   \n",
       "\n",
       "    rooms                                        description  state_Acre  \\\n",
       "0     2.0  Otimo Imovel com o melhor valor da regiao, con...         0.0   \n",
       "26    1.0  Otimo Imovel com o melhor valor da regiao, con...         0.0   \n",
       "27    2.0  Otimo Imovel com o melhor valor da regiao, con...         0.0   \n",
       "28    2.0  Otimo Imovel com o melhor valor da regiao, con...         0.0   \n",
       "29    2.0  Otimo Imovel com o melhor valor da regiao, con...         0.0   \n",
       "\n",
       "    state_Alagoas  state_Amapá  ...  state_Pernambuco  state_Piauí  \\\n",
       "0             0.0          0.0  ...               0.0          0.0   \n",
       "26            0.0          0.0  ...               0.0          0.0   \n",
       "27            0.0          0.0  ...               0.0          0.0   \n",
       "28            0.0          0.0  ...               0.0          0.0   \n",
       "29            0.0          0.0  ...               0.0          0.0   \n",
       "\n",
       "    state_Rio Grande do Norte  state_Rio Grande do Sul  state_Rio de Janeiro  \\\n",
       "0                         0.0                      0.0                   0.0   \n",
       "26                        0.0                      0.0                   0.0   \n",
       "27                        0.0                      0.0                   0.0   \n",
       "28                        0.0                      0.0                   0.0   \n",
       "29                        0.0                      0.0                   0.0   \n",
       "\n",
       "    state_Rondônia  state_Santa Catarina  state_Sergipe  state_São Paulo  \\\n",
       "0              0.0                   0.0            0.0              0.0   \n",
       "26             0.0                   0.0            0.0              1.0   \n",
       "27             0.0                   0.0            0.0              1.0   \n",
       "28             0.0                   0.0            0.0              1.0   \n",
       "29             0.0                   0.0            0.0              1.0   \n",
       "\n",
       "    state_Tocantins  \n",
       "0               0.0  \n",
       "26              0.0  \n",
       "27              0.0  \n",
       "28              0.0  \n",
       "29              0.0  \n",
       "\n",
       "[5 rows x 33 columns]"
      ]
     },
     "execution_count": 129,
     "metadata": {},
     "output_type": "execute_result"
    }
   ],
   "source": [
    "df.head()"
   ]
  },
  {
   "cell_type": "code",
   "execution_count": 170,
   "id": "1ee8c1d1",
   "metadata": {},
   "outputs": [],
   "source": [
    "X_train, X_test, y_train, y_test = train_test_split(df.drop('price', axis=1),\n",
    "                                                    df['price'],\n",
    "                                                    test_size=0.2,\n",
    "                                                    random_state=42)"
   ]
  },
  {
   "cell_type": "code",
   "execution_count": 171,
   "id": "cedb6724",
   "metadata": {},
   "outputs": [],
   "source": [
    "# target encoding\n",
    "\n",
    "mean_price_by_place = X_train.join(y_train).groupby('place_name')['price'].mean()\n",
    "X_train['place_encoded'] = X_train['place_name'].map(mean_price_by_place)"
   ]
  },
  {
   "cell_type": "code",
   "execution_count": 172,
   "id": "5daecd5c",
   "metadata": {},
   "outputs": [],
   "source": [
    "global_mean = y_train.mean()\n",
    "X_test['place_encoded'] = X_test['place_name'].map(mean_price_by_place).fillna(global_mean)"
   ]
  },
  {
   "cell_type": "markdown",
   "id": "3fa11b45",
   "metadata": {},
   "source": [
    "### Normalization/Standardization"
   ]
  },
  {
   "cell_type": "code",
   "execution_count": 178,
   "id": "f13fd30f",
   "metadata": {},
   "outputs": [
    {
     "data": {
      "text/plain": [
       "Index(['place_name', 'surface_covered_in_m2', 'price_per_m2', 'floor', 'rooms',\n",
       "       'description', 'state', 'place_encoded'],\n",
       "      dtype='object')"
      ]
     },
     "execution_count": 178,
     "metadata": {},
     "output_type": "execute_result"
    }
   ],
   "source": [
    "X_train.columns"
   ]
  },
  {
   "cell_type": "code",
   "execution_count": null,
   "id": "ca12a959",
   "metadata": {},
   "outputs": [],
   "source": [
    "num_cols = ['surface_covered_in_m2', 'price_per_m2', 'floor', 'rooms', 'place_encoded']\n",
    "\n",
    "X_train_num = X_train[num_cols]\n",
    "X_test_num = X_test[num_cols]"
   ]
  },
  {
   "cell_type": "code",
   "execution_count": null,
   "id": "5bbe54e3",
   "metadata": {},
   "outputs": [],
   "source": [
    "scaler = RobustScaler()\n",
    "\n",
    "X_train_scaled = scaler.fit_transform(X_train_num)\n",
    "X_test_scaled = scaler.transform(X_test_num)"
   ]
  },
  {
   "cell_type": "markdown",
   "id": "dd09c736",
   "metadata": {},
   "source": [
    "### Feature engineering\n",
    "\n",
    "### Dimensionality reduction"
   ]
  }
 ],
 "metadata": {
  "kernelspec": {
   "display_name": "real_state",
   "language": "python",
   "name": "python3"
  },
  "language_info": {
   "codemirror_mode": {
    "name": "ipython",
    "version": 3
   },
   "file_extension": ".py",
   "mimetype": "text/x-python",
   "name": "python",
   "nbconvert_exporter": "python",
   "pygments_lexer": "ipython3",
   "version": "3.13.0"
  }
 },
 "nbformat": 4,
 "nbformat_minor": 5
}
